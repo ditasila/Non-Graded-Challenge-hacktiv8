{
 "cells": [
  {
   "cell_type": "markdown",
   "metadata": {},
   "source": [
    "# Annisa Ditasila\n",
    "Non-Graded Challenge 3 - Phase 0\n",
    "h8dsft - function"
   ]
  },
  {
   "cell_type": "code",
   "execution_count": 2,
   "metadata": {},
   "outputs": [
    {
     "name": "stdout",
     "output_type": "stream",
     "text": [
      "274.15\n",
      "-272.15\n"
     ]
    }
   ],
   "source": [
    "\"\"\"NGC 3\"\"\"\n",
    "\n",
    "#1\n",
    "def celcius_ke_kelvin (suhu):                           #function from Celcius to Kelvin and its parameters\n",
    "    converter = suhu + 273.15                           #function code\n",
    "    print(converter)                                    #function code\n",
    "def kelvin_ke_celcius (suhu):                           #function from Kelvin to Ccelcius and parameters\n",
    "    converter = suhu - 273.15                           #function code\n",
    "    print(converter)                                    #function code\n",
    "celcius_ke_kelvin(float(input(\"enter number\")))         #result of function call\n",
    "kelvin_ke_celcius(float(input(\"enter number\")))         #result of function call\n",
    "\n"
   ]
  },
  {
   "cell_type": "code",
   "execution_count": 3,
   "metadata": {},
   "outputs": [
    {
     "name": "stdout",
     "output_type": "stream",
     "text": [
      "35.6\n",
      "-456.07\n"
     ]
    }
   ],
   "source": [
    "#2\n",
    "\n",
    "def celcius_ke_fahrenheit (suhu):                       #function from celcius to fahrenheit and its parameters\n",
    "    converter = (suhu * 9/5) + 32                       #function code\n",
    "    print (converter)                                   #function code\n",
    "    return                                              #return function\n",
    "def kelvin_ke_fahrenheit (suhu):                        #function from kelvin to fahrenheit and its parameters\n",
    "    converter = (suhu - 273.15) * 9/5 + 32              #function code\n",
    "    print (converter)                                   #function code\n",
    "    return                                              #return function\n",
    "celcius_ke_fahrenheit(float(input(\"enternumber: \")))    #result of function call\n",
    "kelvin_ke_fahrenheit(float(input(\"enternumber: \")))     #result of funtion call\n"
   ]
  },
  {
   "cell_type": "code",
   "execution_count": 4,
   "metadata": {},
   "outputs": [
    {
     "name": "stdout",
     "output_type": "stream",
     "text": [
      "konversi dari 3.0 fahrenheit adalah -16.11111111111111 celcius \n",
      "konversi dari 3.0 fahrenheit adalah 257.0388888888889 kelvin \n"
     ]
    }
   ],
   "source": [
    "#3\n",
    "\n",
    "def fahrenheit_ke_celcius (suhu):                                           #function from fahrenheit to celcius and its parameters\n",
    "    converter = (suhu - 32) * 5/9                                           #function code\n",
    "    print(f\"konversi dari {suhu} fahrenheit adalah {converter} celcius \")   #function code\n",
    "    return                                                                  #return function\n",
    "def fahreinheit_ke_kelvin (suhu):                                           #function from fahrenheit to kelvin and its parameters\n",
    "    converter = (suhu - 32) * 5/9 + 273.15                                  #function code\n",
    "    print(f\"konversi dari {suhu} fahrenheit adalah {converter} kelvin \")    #function code\n",
    "    return                                                                  #return function\n",
    "fahrenheit_ke_celcius(float(input(\"enternumber: \")))                        #result of funtion call\n",
    "fahreinheit_ke_kelvin(float(input(\"enternumber: \")))                        #result of funtion call"
   ]
  }
 ],
 "metadata": {
  "kernelspec": {
   "display_name": "Python 3.11.0 64-bit",
   "language": "python",
   "name": "python3"
  },
  "language_info": {
   "codemirror_mode": {
    "name": "ipython",
    "version": 3
   },
   "file_extension": ".py",
   "mimetype": "text/x-python",
   "name": "python",
   "nbconvert_exporter": "python",
   "pygments_lexer": "ipython3",
   "version": "3.11.0"
  },
  "orig_nbformat": 4,
  "vscode": {
   "interpreter": {
    "hash": "bd515da7b6b96552b54afac513d0716c9696ec40e25d799991196c4080ab6efd"
   }
  }
 },
 "nbformat": 4,
 "nbformat_minor": 2
}
