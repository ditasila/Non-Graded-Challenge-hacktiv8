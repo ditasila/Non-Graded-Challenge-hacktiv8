{
 "cells": [
  {
   "cell_type": "markdown",
   "metadata": {},
   "source": [
    "Annisa Ditasila\n",
    "Phase 0 - NGC 2\n",
    "Non-Graded Challenge - Looping"
   ]
  },
  {
   "cell_type": "code",
   "execution_count": 3,
   "metadata": {},
   "outputs": [
    {
     "name": "stdout",
     "output_type": "stream",
     "text": [
      "402\n",
      "360\n",
      "408\n",
      "544\n",
      "390\n",
      "592\n",
      "236\n",
      "386\n",
      "462\n",
      "418\n",
      "344\n",
      "236\n",
      "566\n",
      "328\n",
      "162\n",
      "758\n",
      "918\n",
      "412\n",
      "566\n",
      "826\n",
      "248\n",
      "866\n",
      "626\n",
      "Done\n"
     ]
    }
   ],
   "source": [
    "numbers = [951, 402, 984, 651, 360, 69, 408, 319, 601, 485, 980, 507, \n",
    "725, 547, 544, 615, 83, 165, 141, 501, 263, 617, 865, 575, 219, 390, \n",
    "984, 592, 236, 105, 942, 941, 386, 462, 47, 418, 907, 344, 236, 375, \n",
    "823, 566, 597, 978, 328, 615, 953, 345, 399, 162, 758, 219, 918, 237, \n",
    "412, 566, 826, 248, 866, 950, 626, 949]\n",
    "\n",
    "for x in numbers:\n",
    "  if x % 2 == 0:\n",
    "    if x <= 918:\n",
    "      print(x)\n",
    "print('Done')"
   ]
  },
  {
   "cell_type": "code",
   "execution_count": null,
   "metadata": {},
   "outputs": [],
   "source": []
  }
 ],
 "metadata": {
  "kernelspec": {
   "display_name": "Python 3.11.0 64-bit",
   "language": "python",
   "name": "python3"
  },
  "language_info": {
   "codemirror_mode": {
    "name": "ipython",
    "version": 3
   },
   "file_extension": ".py",
   "mimetype": "text/x-python",
   "name": "python",
   "nbconvert_exporter": "python",
   "pygments_lexer": "ipython3",
   "version": "3.11.0"
  },
  "orig_nbformat": 4,
  "vscode": {
   "interpreter": {
    "hash": "bd515da7b6b96552b54afac513d0716c9696ec40e25d799991196c4080ab6efd"
   }
  }
 },
 "nbformat": 4,
 "nbformat_minor": 2
}
